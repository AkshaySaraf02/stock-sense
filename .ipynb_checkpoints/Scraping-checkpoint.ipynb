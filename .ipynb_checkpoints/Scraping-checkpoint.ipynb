{
 "cells": [
  {
   "cell_type": "code",
   "execution_count": 1,
   "id": "41362ae7",
   "metadata": {},
   "outputs": [],
   "source": [
    "from bs4 import BeautifulSoup\n",
    "import requests"
   ]
  },
  {
   "cell_type": "code",
   "execution_count": 2,
   "id": "99984623",
   "metadata": {},
   "outputs": [],
   "source": [
    "headers = {'User-Agent': \"Mozilla/5.0 (Windows NT 10.0; Win64; x64) AppleWebKit/537.36 (KHTML, like Gecko) Chrome/42.0.2311.135 Safari/537.36 Edge/12.246\"}"
   ]
  },
  {
   "cell_type": "code",
   "execution_count": 6,
   "id": "d4ea8245",
   "metadata": {},
   "outputs": [],
   "source": [
    "def latest_5_news(company_name):\n",
    "    url = f\"https://economictimes.indiatimes.com/topic/{company_name}\"\n",
    "    response = requests.get(url, headers=headers)\n",
    "\n",
    "    if response.status_code == 200:\n",
    "        soup = BeautifulSoup(response.content, \"html.parser\")\n",
    "        for i, news in enumerate(soup.find_all(\"div\", class_=\"contentD\")):\n",
    "            if i > 4:\n",
    "                break\n",
    "            headline = news.text[:-26]\n",
    "            date = news.text[-26:]\n",
    "            print(f\"{i+1}. {headline}. \\n Dated: {date}\\n\\n\")\n",
    "    else:\n",
    "        print(\"Failed to get the page\", response.status_code)\n"
   ]
  },
  {
   "cell_type": "code",
   "execution_count": 8,
   "id": "020cd93c",
   "metadata": {},
   "outputs": [
    {
     "name": "stdout",
     "output_type": "stream",
     "text": [
      "1. Indian IT leaders most confident in digital infrastructure's readiness for AI across Asia-Pacific: surveyAccording to the Equinix 2023 Global Tech Trends Survey, more than eight out of 10 IT leaders surveyed in India (85%) believe that their existing IT infrastructure is ready for the demands of AI, while only 56% in Asia-Pacific have certainty about the ability of their infrastructure for AI.. \n",
      " Dated: 26 Jun, 2023, 03:12 PM IST\n",
      "\n",
      "\n",
      "2. The race to prevent 'the worst case scenario for machine learning'Dave Willner started working at Facebook in 2008, back when social media companies were making up their rules as they went along. As the company's head of content policy, it was Willner who wrote Facebook's first official community standards more than a decade ago, turning what he has said was an informal one-page list that mostly boiled down to a ban on \"Hitler and naked people\" into what is now a voluminous catalog of slurs, crimes and other grotesqueries that are banned across all of Meta's platforms.. \n",
      " Dated: 25 Jun, 2023, 04:39 PM IST\n",
      "\n",
      "\n",
      "3. For HR, eight is enoughAdopt agile principles to ensure strict prioritisation of HR's existing capacity and swift resource reallocation when needed. Excel along the employee experience (EX) journey to win the race for talent in the time of the Great Attrition, enabling both employee health and resilience.. \n",
      " Dated: 23 Jun, 2023, 01:19 AM IST\n",
      "\n",
      "\n",
      "4. Cisco launches AI networking chips to take on Broadcom, MarvellCisco said the latest generation of its ethernet switches, called G200 and G202, have double the performance, compared with the previous generation, and can connect up to 32,000 GPUs together.. \n",
      " Dated: 21 Jun, 2023, 12:06 AM IST\n",
      "\n",
      "\n",
      "5. Hold your ayes for AIHow is safety seen in the artificial intelligence (AI) community? It uses the term 'AI safety', but research is needed to ensure AI is beneficial. Trustworthiness and confidence too are needed.... Following are the 7 main challenges in the context of beneficial AI:. \n",
      " Dated: 30 May, 2023, 11:23 PM IST\n",
      "\n",
      "\n"
     ]
    }
   ],
   "source": [
    "latest_5_news(\"machine learning\")"
   ]
  },
  {
   "cell_type": "code",
   "execution_count": null,
   "id": "aa83a15c",
   "metadata": {},
   "outputs": [],
   "source": []
  }
 ],
 "metadata": {
  "kernelspec": {
   "display_name": "Python 3 (ipykernel)",
   "language": "python",
   "name": "python3"
  },
  "language_info": {
   "codemirror_mode": {
    "name": "ipython",
    "version": 3
   },
   "file_extension": ".py",
   "mimetype": "text/x-python",
   "name": "python",
   "nbconvert_exporter": "python",
   "pygments_lexer": "ipython3",
   "version": "3.11.2"
  }
 },
 "nbformat": 4,
 "nbformat_minor": 5
}
