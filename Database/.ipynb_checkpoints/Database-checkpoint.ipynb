{
 "cells": [
  {
   "cell_type": "code",
   "execution_count": 1,
   "id": "0125b27d",
   "metadata": {},
   "outputs": [],
   "source": [
    "from pandas_datareader import data as stocksAPI\n",
    "import yfinance \n",
    "from collections import OrderedDict\n",
    "import warnings\n",
    "warnings.filterwarnings(\"ignore\")\n",
    "import pandas as pd\n",
    "from datetime import datetime, timedelta\n",
    "\n",
    "from firebase_admin import credentials, firestore\n",
    "import firebase_admin"
   ]
  },
  {
   "cell_type": "code",
   "execution_count": 2,
   "id": "c3f2dff5",
   "metadata": {},
   "outputs": [],
   "source": [
    "cred = credentials.Certificate(\"C:\\\\Users\\\\User\\\\Desktop\\\\StockSense\\\\confidential\\\\admin.json\")\n",
    "firebase_admin.initialize_app(cred)\n",
    "db = firestore.client()"
   ]
  },
  {
   "cell_type": "code",
   "execution_count": 28,
   "id": "4a1b6c9f",
   "metadata": {},
   "outputs": [],
   "source": [
    "def add_stocks_data(ticker):\n",
    "    try:\n",
    "        df = stocksAPI.DataReader(name=ticker[1].upper(), data_source = \"iex\",\n",
    "                            start=\"2020-01-01\", end=\"2023-07-16\", api_key=\"sk_08dcd11ddf014b7cb57250522079d96e\")\n",
    "        data = {\"prices\": df[[\"open\", \"close\", \"high\", \"low\", \"volume\"]].to_dict(orient=\"index\")}\n",
    "        data[\"name\"] = ticker[0]\n",
    "        doc_ref = db.collection(\"stock_data\").document(ticker[1].upper())\n",
    "        doc_ref.set(data)\n",
    "        print(f\"Document added with id: {doc_ref.id}\")\n",
    "        \n",
    "    except Exception as e:\n",
    "        print(e)    "
   ]
  },
  {
   "cell_type": "code",
   "execution_count": 29,
   "id": "3f8bc20e",
   "metadata": {},
   "outputs": [],
   "source": [
    "top_88_stocks=[[\"Apple\", \"AAPL\"], [\"Microsoft\", \"MSFT\"], [\"Amazon.com\", \"AMZN\"], [\"Facebook\", \"FB\"], [\"Tesla\", \"TSLA\"], [\"Google\", \"GOOGL\"], [\"Berkshire Hathaway\", \"BRK-A\"], [\"Johnson & Johnson\", \"JNJ\"], [\"JPMorgan Chase\", \"JPM\"], [\"Visa\", \"V\"], [\"Procter & Gamble\", \"PG\"], [\"NVIDIA\", \"NVDA\"], [\"UnitedHealth Group\", \"UNH\"], [\"Mastercard\", \"MA\"], [\"Home Depot\", \"HD\"], [\"Intel\", \"INTC\"], [\"PayPal\", \"PYPL\"], [\"Walt Disney\", \"DIS\"], [\"Salesforce\", \"CRM\"], [\"Bank of America\", \"BAC\"], [\"Exxon Mobil\", \"XOM\"], [\"Verizon Communications\", \"VZ\"], [\"Netflix\", \"NFLX\"], [\"AT&T\", \"T\"], [\"Coca-Cola\", \"KO\"], [\"Pfizer\", \"PFE\"], [\"Comcast\", \"CMCSA\"], [\"McDonald's\", \"MCD\"], [\"Cisco Systems\", \"CSCO\"], [\"Abbott Laboratories\", \"ABT\"], [\"Walmart\", \"WMT\"], [\"Accenture\", \"ACN\"], [\"Merck & Co.\", \"MRK\"], [\"Wells Fargo\", \"WFC\"], [\"Nike\", \"NKE\"], [\"Chevron\", \"CVX\"], [\"PepsiCo\", \"PEP\"], [\"Pinduoduo\", \"PDD\"], [\"Qualcomm\", \"QCOM\"], [\"Thermo Fisher Scientific\", \"TMO\"], [\"Broadcom\", \"AVGO\"], [\"Costco Wholesale\", \"COST\"], [\"Boeing\", \"BA\"], [\"Taiwan Semiconductor\", \"TSM\"], [\"Walgreens Boots Alliance\", \"WBA\"], [\"Honeywell International\", \"HON\"], [\"Linde\", \"LIN\"], [\"Oracle\", \"ORCL\"], [\"Union Pacific\", \"UNP\"], [\"Advanced Micro Devices\", \"AMD\"], [\"Alibaba\", \"BABA\"], [\"Danaher\", \"DHR\"], [\"Lockheed Martin\", \"LMT\"], [\"Texas Instruments\", \"TXN\"], [\"Airbnb\", \"ABNB\"], [\"Citigroup\", \"C\"], [\"Caterpillar\", \"CAT\"], [\"NextEra Energy\", \"NEE\"], [\"IBM\", \"IBM\"], [\"Amgen\", \"AMGN\"], [\"Philip Morris\", \"PM\"], [\"General Electric\", \"GE\"], [\"Altria Group\", \"MO\"], [\"SAP SE\", \"SAP\"], [\"Medtronic\", \"MDT\"], [\"Eli Lilly and Company\", \"LLY\"], [\"Bristol-Myers Squibb\", \"BMY\"], [\"Shopify\", \"SHOP\"], [\"United Parcel Service\", \"UPS\"], [\"HDFC Bank\", \"HDB\"], [\"3M\", \"MMM\"], [\"CSX\", \"CSX\"], [\"American Tower\", \"AMT\"], [\"AbbVie\", \"ABBV\"], [\"Vertex Pharmaceuticals\", \"VRTX\"], [\"British American Tobacco\", \"BTI\"], [\"American Express\", \"AXP\"], [\"AstraZeneca\", \"AZN\"], [\"Starbucks\", \"SBUX\"], [\"Lam Research\", \"LRCX\"], [\"BHP Group\", \"BHP\"], [\"Sanofi\", \"SNY\"], [\"Gilead Sciences\", \"GILD\"], [\"T-Mobile\", \"TMUS\"], [\"Target\", \"TGT\"], [\"Adobe\", \"ADBE\"], [\"Bank of Montreal\", \"BMO\"], [\"Lowe's\", \"LOW\"]]"
   ]
  },
  {
   "cell_type": "code",
   "execution_count": 30,
   "id": "59db98e9",
   "metadata": {},
   "outputs": [
    {
     "data": {
      "text/plain": [
       "88"
      ]
     },
     "execution_count": 30,
     "metadata": {},
     "output_type": "execute_result"
    }
   ],
   "source": [
    "len(top_88_stocks)"
   ]
  },
  {
   "cell_type": "code",
   "execution_count": 31,
   "id": "ecbaf414",
   "metadata": {
    "scrolled": true
   },
   "outputs": [
    {
     "name": "stdout",
     "output_type": "stream",
     "text": [
      "Document added with id: AAPL\n",
      "Document added with id: MSFT\n",
      "Document added with id: AMZN\n",
      "Document added with id: FB\n",
      "Document added with id: TSLA\n",
      "Document added with id: GOOGL\n",
      "Unable to read URL: https://cloud.iexapis.com/stable/stock/market/batch?symbols=BRK-A&types=chart&range=5y&token=sk_08dcd11ddf014b7cb57250522079d96e\n",
      "Document added with id: JNJ\n",
      "Document added with id: JPM\n",
      "Document added with id: V\n",
      "Document added with id: PG\n",
      "Document added with id: NVDA\n",
      "Document added with id: UNH\n",
      "Document added with id: MA\n",
      "Document added with id: HD\n",
      "Document added with id: INTC\n",
      "Document added with id: PYPL\n",
      "Document added with id: DIS\n",
      "Document added with id: CRM\n",
      "Document added with id: BAC\n",
      "Document added with id: XOM\n",
      "Document added with id: VZ\n",
      "Document added with id: NFLX\n",
      "Document added with id: T\n",
      "Document added with id: KO\n",
      "Document added with id: PFE\n",
      "Document added with id: CMCSA\n",
      "Document added with id: MCD\n",
      "Document added with id: CSCO\n",
      "Document added with id: ABT\n",
      "Document added with id: WMT\n",
      "Document added with id: ACN\n",
      "Document added with id: MRK\n",
      "Document added with id: WFC\n",
      "Document added with id: NKE\n",
      "Document added with id: CVX\n",
      "Document added with id: PEP\n",
      "Document added with id: PDD\n",
      "Document added with id: QCOM\n",
      "Document added with id: TMO\n",
      "Document added with id: AVGO\n",
      "Document added with id: COST\n",
      "Document added with id: BA\n",
      "Document added with id: TSM\n",
      "Document added with id: WBA\n",
      "Document added with id: HON\n",
      "Document added with id: LIN\n",
      "Document added with id: ORCL\n",
      "Document added with id: UNP\n",
      "Document added with id: AMD\n",
      "Document added with id: BABA\n",
      "Document added with id: DHR\n",
      "Document added with id: LMT\n",
      "Document added with id: TXN\n",
      "Document added with id: ABNB\n",
      "Document added with id: C\n",
      "Document added with id: CAT\n",
      "Document added with id: NEE\n",
      "Document added with id: IBM\n",
      "Document added with id: AMGN\n",
      "Document added with id: PM\n",
      "Document added with id: GE\n",
      "Document added with id: MO\n",
      "Document added with id: SAP\n",
      "Document added with id: MDT\n",
      "Document added with id: LLY\n",
      "Document added with id: BMY\n",
      "Document added with id: SHOP\n",
      "Document added with id: UPS\n",
      "Document added with id: HDB\n",
      "Document added with id: MMM\n",
      "Document added with id: CSX\n",
      "Document added with id: AMT\n",
      "Document added with id: ABBV\n",
      "Document added with id: VRTX\n",
      "Document added with id: BTI\n",
      "Document added with id: AXP\n",
      "Document added with id: AZN\n",
      "Document added with id: SBUX\n",
      "Document added with id: LRCX\n",
      "Document added with id: BHP\n",
      "Document added with id: SNY\n",
      "Document added with id: GILD\n",
      "Document added with id: TMUS\n",
      "Document added with id: TGT\n",
      "Document added with id: ADBE\n",
      "Document added with id: BMO\n",
      "Document added with id: LOW\n"
     ]
    }
   ],
   "source": [
    "for stock in top_88_stocks:\n",
    "    add_stocks_data(stock)"
   ]
  },
  {
   "cell_type": "code",
   "execution_count": null,
   "id": "2d9f1669",
   "metadata": {},
   "outputs": [],
   "source": [
    "fetch_data = "
   ]
  },
  {
   "cell_type": "code",
   "execution_count": null,
   "id": "32a77948",
   "metadata": {},
   "outputs": [],
   "source": []
  },
  {
   "cell_type": "code",
   "execution_count": 7,
   "id": "3c60c280",
   "metadata": {},
   "outputs": [],
   "source": [
    "def update_database(ticker):\n",
    "    try:\n",
    "        doc_ref = db.collection(\"stock_prices_data\").where(\"ticker\", \"==\", ticker).get()[0]\n",
    "        document = doc_ref.to_dict()\n",
    "        last_date = list(document[\"prices\"].keys())[-1]\n",
    "        curr_date = datetime.today().strftime('%Y-%m-%d')\n",
    "        old_data = document[\"prices\"]\n",
    "    \n",
    "\n",
    "        last_date = datetime.strptime(last_date, '%Y-%m-%d') + timedelta(days=1)\n",
    "        new_date_str = last_date.strftime('%Y-%m-%d')\n",
    "        \n",
    "        df = stocksAPI.DataReader(name=ticker.upper(), data_source = \"iex\",\n",
    "                            start=last_date, end=curr_date, api_key=\"sk_08dcd11ddf014b7cb57250522079d96e\")\n",
    "\n",
    "        return df\n",
    "        data = {\"prices\": df[[\"open\", \"close\", \"high\", \"low\", \"volume\"]].to_dict(orient=\"index\")}\n",
    "        data = OrderedDict(list(old_data.items()) + list(data.items()))\n",
    "        doc_ref.reference.update({\"prices\": data})\n",
    "        name = document[\"name\"]\n",
    "        print(f\"Updated {name}'s data successfully!\")\n",
    "        \n",
    "    except Exception as e:\n",
    "        print(e)\n",
    "        pass\n",
    "        "
   ]
  },
  {
   "cell_type": "code",
   "execution_count": null,
   "id": "d82bc0ee",
   "metadata": {},
   "outputs": [],
   "source": [
    "update_database(\"GOOGL\")"
   ]
  },
  {
   "cell_type": "code",
   "execution_count": null,
   "id": "d0892f08",
   "metadata": {},
   "outputs": [],
   "source": [
    "doc_ref = db.collection(\"stock_prices_data\").where(\"ticker\", \"==\", \"JNJ\").get()[0]\n",
    "document = doc_ref.to_dict()"
   ]
  },
  {
   "cell_type": "code",
   "execution_count": null,
   "id": "1f0b36c7",
   "metadata": {},
   "outputs": [],
   "source": [
    "df = pd.DataFrame.from_records(document[\"prices\"]).T\n",
    "# df = df[[\"open\", \"close\", \"high\", \"low\", \"volume\"]]"
   ]
  },
  {
   "cell_type": "code",
   "execution_count": null,
   "id": "d902dbe8",
   "metadata": {},
   "outputs": [],
   "source": [
    "df"
   ]
  },
  {
   "cell_type": "code",
   "execution_count": null,
   "id": "b4f40751",
   "metadata": {},
   "outputs": [],
   "source": []
  }
 ],
 "metadata": {
  "kernelspec": {
   "display_name": "Python 3 (ipykernel)",
   "language": "python",
   "name": "python3"
  },
  "language_info": {
   "codemirror_mode": {
    "name": "ipython",
    "version": 3
   },
   "file_extension": ".py",
   "mimetype": "text/x-python",
   "name": "python",
   "nbconvert_exporter": "python",
   "pygments_lexer": "ipython3",
   "version": "3.11.2"
  },
  "vscode": {
   "interpreter": {
    "hash": "ebfc0a8d552866b0d59eba665220a57de3bc06f3ac643b8bef38dd8f66781fdd"
   }
  }
 },
 "nbformat": 4,
 "nbformat_minor": 5
}
